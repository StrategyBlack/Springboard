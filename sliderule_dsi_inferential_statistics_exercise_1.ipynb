{
 "cells": [
  {
   "cell_type": "markdown",
   "metadata": {},
   "source": [
    "# What is the True Normal Human Body Temperature? \n",
    "\n",
    "#### Background\n",
    "\n",
    "The mean normal body temperature was held to be 37$^{\\circ}$C or 98.6$^{\\circ}$F for more than 120 years since it was first conceptualized and reported by Carl Wunderlich in a famous 1868 book. But, is this value statistically correct?"
   ]
  },
  {
   "cell_type": "markdown",
   "metadata": {},
   "source": [
    "### Import Libraries"
   ]
  },
  {
   "cell_type": "code",
   "execution_count": 41,
   "metadata": {},
   "outputs": [],
   "source": [
    "import pandas as pd\n",
    "% matplotlib inline\n",
    "import matplotlib.pyplot as plt\n",
    "import numpy as np \n",
    "import pylab \n",
    "import scipy.stats as stats\n",
    "\n",
    "# Read in data\n",
    "df = pd.read_csv('data/human_body_temperature.csv')"
   ]
  },
  {
   "cell_type": "markdown",
   "metadata": {},
   "source": [
    "### Normality Test\n",
    "\n",
    "* Visualize the distribution in a histogram\n",
    "* Visualize the distribution using a q-q plot\n",
    "* Perform a normality hypothesis test"
   ]
  },
  {
   "cell_type": "code",
   "execution_count": 98,
   "metadata": {},
   "outputs": [
    {
     "data": {
      "image/png": "[encoded data removed]",
      "text/plain": [
       "<matplotlib.figure.Figure at 0xe803208>"
      ]
     },
     "metadata": {},
     "output_type": "display_data"
    }
   ],
   "source": [
    "# Plot historgram of temperatures\n",
    "\n",
    "plt.hist(df.temperature)\n",
    "plt.title(\"Distribution of Temperatures\")\n",
    "plt.xlabel(\"Temperature\")\n",
    "plot = plt.ylabel(\"Count\")"
   ]
  },
  {
   "cell_type": "markdown",
   "metadata": {},
   "source": [
    "The above histogram appears approximately normal, but also has a drastic cuttoff around 99.3F, so it is worth running a few more checks for normality."
   ]
  },
  {
   "cell_type": "code",
   "execution_count": 50,
   "metadata": {},
   "outputs": [
    {
     "data": {
      "image/png": "[encoded data removed]",
      "text/plain": [
       "<matplotlib.figure.Figure at 0xee1e588>"
      ]
     },
     "metadata": {},
     "output_type": "display_data"
    }
   ],
   "source": [
    "# Q-Q Plot\n",
    "stats.probplot(df.temperature, dist=\"norm\", plot=pylab)\n",
    "pylab.show()"
   ]
  },
  {
   "cell_type": "markdown",
   "metadata": {},
   "source": [
    "The Q-Q plot above seems to indicate that temperatures in this data set are approximately normally distributed. Let's move from checking this visually to testing normality quantitatively."
   ]
  },
  {
   "cell_type": "code",
   "execution_count": 176,
   "metadata": {},
   "outputs": [
    {
     "name": "stdout",
     "output_type": "stream",
     "text": [
      "Hypotheses\n",
      "H0: Distribution is normal\n",
      "H1: Distribution is not normal\n",
      "Alpha = 0.05\n",
      " \n",
      "With a t-statistic of 2.7038 resulting in a p-value of 0.2587, we conclude that we cannot reject the null hypothesis that \n",
      "temperatures in this dataset are normally distributed.\n"
     ]
    }
   ],
   "source": [
    "# Run a normality test\n",
    "norm_test = stats.normaltest(df.temperature)\n",
    "print(\"Hypotheses\")\n",
    "print(\"H0: Distribution is normal\")\n",
    "print(\"H1: Distribution is not normal\")\n",
    "print(\"Alpha = 0.05\")\n",
    "print(\" \")\n",
    "print(\"With a t-statistic of %.4f resulting in a p-value of %.4f, we conclude that we cannot reject the null hypothesis that \\ntemperatures in this dataset are normally distributed.\" % norm_test)"
   ]
  },
  {
   "cell_type": "markdown",
   "metadata": {},
   "source": [
    "### Checking CLT Conditions"
   ]
  },
  {
   "cell_type": "code",
   "execution_count": 177,
   "metadata": {},
   "outputs": [
    {
     "name": "stdout",
     "output_type": "stream",
     "text": [
      "The sample size is 130 split evenly between 65 males and 65 females.\n"
     ]
    }
   ],
   "source": [
    "# Get the overall sample size and sample sizes by gender\n",
    "sample_size = len(df.temperature)\n",
    "gender_counts = df.gender.value_counts()\n",
    "print('The sample size is %d split evenly between %d males and %d females.' % (sample_size, gender_counts[0], gender_counts[1]))"
   ]
  },
  {
   "cell_type": "markdown",
   "metadata": {},
   "source": [
    "Since the data meets the normality condition and are unimodal, a sample size over 30 is sufficient to meet the sample size condition of CLT. The data were collected through a random sample, and can therefore be assumed to be independent. However, more investigation into the experiment design is necessary to see if the sample meets the 10% condition. Additionally, while we are assuming that the data are independent, it is worth noting that the sample was taken from a single location (Baltimore, MD) and, therefore, results cannot reasonably be extrapolated to the entire world, or even U.S., populations."
   ]
  },
  {
   "cell_type": "markdown",
   "metadata": {},
   "source": [
    "### Test for True Population Mean"
   ]
  },
  {
   "cell_type": "markdown",
   "metadata": {},
   "source": [
    "As we are testing a single statistic (sample mean) against a hypothesized population parameter (population mean), a one-sample test is appropriate. Since the population standard deviation is unknown, we will use a t-test. "
   ]
  },
  {
   "cell_type": "code",
   "execution_count": 122,
   "metadata": {},
   "outputs": [
    {
     "name": "stdout",
     "output_type": "stream",
     "text": [
      "The sample mean temperature is 98.25.\n",
      " \n",
      "Hypotheses\n",
      "H0: Mean Temperature is 98.6\n",
      "H1: Mean Temperature is Below 98.6\n",
      "Alpha = 0.05\n"
     ]
    }
   ],
   "source": [
    "# Get the sample mean temperature\n",
    "samp_mean = df.temperature.mean()\n",
    "print(\"The sample mean temperature is %.2f.\" % samp_mean)\n",
    "print(\" \")\n",
    "print(\"Hypotheses\")\n",
    "print(\"H0: Mean Temperature is 98.6\")\n",
    "print(\"H1: Mean Temperature is Below 98.6\")\n",
    "print(\"Alpha = 0.05\")"
   ]
  },
  {
   "cell_type": "code",
   "execution_count": 178,
   "metadata": {},
   "outputs": [
    {
     "name": "stdout",
     "output_type": "stream",
     "text": [
      "With a t-statistic of -5.4548 and a p-value of 0.0000002411, we can reject the null hypothesis that the true population mean is 98.60.\n"
     ]
    }
   ],
   "source": [
    "# Run a one-sample t-test\n",
    "hypothesized_mean = 98.6\n",
    "t_test = stats.ttest_1samp(df.temperature, hypothesized_mean)\n",
    "print(\"With a t-statistic of %.4f and a p-value of %.10f, we can reject the null hypothesis that the true population mean is %.2f.\" % (t_test[0], t_test[1], hypothesized_mean))"
   ]
  },
  {
   "cell_type": "code",
   "execution_count": 179,
   "metadata": {},
   "outputs": [
    {
     "name": "stdout",
     "output_type": "stream",
     "text": [
      "The lower bound of a 95-percent confidence interval is 98.12 and the upper bound is 98.38.\n"
     ]
    }
   ],
   "source": [
    "# Create a 95% a confidence interval\n",
    "conf_lev = 0.95\n",
    "n = len(df.temperature) - 1\n",
    "SEM = stats.sem(df.temperature)\n",
    "conf_interval = stats.t.interval(conf_lev, n, \n",
    "                             loc = samp_mean, \n",
    "                             scale=SEM)\n",
    "print(\"The lower bound of a 95-percent confidence interval is %.2f and the upper bound is %.2f.\" % conf_interval )"
   ]
  },
  {
   "cell_type": "markdown",
   "metadata": {},
   "source": [
    "### Abnormality Thresholds"
   ]
  },
  {
   "cell_type": "markdown",
   "metadata": {},
   "source": [
    "It is possible to use the confidence interval above as our thresholds outside of which would be considered abnormal. However, depending on the use case, it may be more appropriate to apply more extreme thresholds such as the outlier formula below. "
   ]
  },
  {
   "cell_type": "code",
   "execution_count": 138,
   "metadata": {},
   "outputs": [
    {
     "name": "stdout",
     "output_type": "stream",
     "text": [
      "This would put the lower threshold at 96.45 and the upper threshold at 100.05.\n"
     ]
    }
   ],
   "source": [
    "# Get the values needed for outlier calculation\n",
    "IQR = stats.iqr(df.temperature)\n",
    "Q3 = np.percentile(df.temperature, 75)\n",
    "Q1 = np.percentile(df.temperature, 25)\n",
    "upper_thresh = Q3 + (1.5*IQR)\n",
    "lower_thresh = Q1 - (1.5*IQR)\n",
    "print(\"This would put the lower threshold at %.2f and the upper threshold at %.2f.\" % (lower_thresh, upper_thresh))"
   ]
  },
  {
   "cell_type": "markdown",
   "metadata": {},
   "source": [
    "### Gender Comparison Test"
   ]
  },
  {
   "cell_type": "code",
   "execution_count": 139,
   "metadata": {},
   "outputs": [
    {
     "name": "stdout",
     "output_type": "stream",
     "text": [
      "The average temperatures for males and females are 98.10 and 98.39, respectively.\n"
     ]
    }
   ],
   "source": [
    "# Get the average temperatures of genders separately\n",
    "avg_male_temp = df.temperature[df.gender == \"M\"].mean()\n",
    "avg_female_temp = df.temperature[df.gender == \"F\"].mean()\n",
    "\n",
    "print(\"The average temperatures for males and females are %.2f and %.2f, respectively.\" % (avg_male_temp, avg_female_temp))"
   ]
  },
  {
   "cell_type": "code",
   "execution_count": 168,
   "metadata": {},
   "outputs": [
    {
     "data": {
      "image/png": "[encoded data removed]",
      "text/plain": [
       "<matplotlib.figure.Figure at 0x119fa0b8>"
      ]
     },
     "metadata": {},
     "output_type": "display_data"
    }
   ],
   "source": [
    "# Visualize comparison\n",
    "plt.boxplot([df.temperature[df.gender == \"M\"], df.temperature[df.gender == 'F']])\n",
    "plt.title(\"Body Temperature Comparison by Gender\")\n",
    "plt.xlabel(\"Gender (M = 1; F = 2)\")\n",
    "d = plt.ylabel(\"Temp\")"
   ]
  },
  {
   "cell_type": "markdown",
   "metadata": {},
   "source": [
    "The mean temperatures for males and females seem to be different. We will run a two-sample independent t-test to measure the difference quantitatively."
   ]
  },
  {
   "cell_type": "code",
   "execution_count": 180,
   "metadata": {},
   "outputs": [
    {
     "name": "stdout",
     "output_type": "stream",
     "text": [
      "Hypotheses\n",
      "H0: Mean temperature is the same for both genders.\n",
      "H1: Mean temperatures differ between genders\n",
      "Alpa = 0.05\n",
      " \n",
      "With a t-statistic of 2.2854 and a p-value of 0.0239, we can reject the null hypothesis that the mean temperature for males is the same as the mean temperature for females.\n"
     ]
    }
   ],
   "source": [
    "# Run two sample t-test\n",
    "print(\"Hypotheses\")\n",
    "print(\"H0: Mean temperature is the same for both genders.\")\n",
    "print(\"H1: Mean temperatures differ between genders\")\n",
    "print(\"Alpa = 0.05\")\n",
    "print(\" \")\n",
    "ind_test = stats.ttest_ind(df.temperature[df.gender == \"F\"], df.temperature[df.gender == 'M'])\n",
    "print(\"With a t-statistic of %.4f and a p-value of %.4f, we can reject the null hypothesis that the mean temperature for males is the same as the mean temperature for females.\" % ind_test)"
   ]
  },
  {
   "cell_type": "markdown",
   "metadata": {},
   "source": [
    "While there is a statistically significant difference between mean body temperatures for males as compared to that of females, the actual difference is relatively small. When reporting the results of this test, it is important to note the effect size as to avoid any misinterpretation of the findings."
   ]
  }
 ],
 "metadata": {
  "kernelspec": {
   "display_name": "Python 2",
   "language": "python",
   "name": "python2"
  },
  "language_info": {
   "codemirror_mode": {
    "name": "ipython",
    "version": 2
   },
   "file_extension": ".py",
   "mimetype": "text/x-python",
   "name": "python",
   "nbconvert_exporter": "python",
   "pygments_lexer": "ipython2",
   "version": "2.7.13"
  }
 },
 "nbformat": 4,
 "nbformat_minor": 1
}
