{
 "cells": [
  {
   "cell_type": "markdown",
   "metadata": {},
   "source": [
    "# Examining Racial Discrimination in the US Job Market\n",
    "\n",
    "### Background\n",
    "Racial discrimination continues to be pervasive in cultures throughout the world. Researchers examined the level of racial discrimination in the United States labor market by randomly assigning identical résumés to black-sounding or white-sounding names and observing the impact on requests for interviews from employers.\n",
    "\n",
    "### Data\n",
    "In the dataset provided, each row represents a resume. The 'race' column has two values, 'b' and 'w', indicating black-sounding and white-sounding. The column 'call' has two values, 1 and 0, indicating whether the resume received a call from employers or not.\n",
    "\n",
    "Note that the 'b' and 'w' values in race are assigned randomly to the resumes when presented to the employer."
   ]
  },
  {
   "cell_type": "code",
   "execution_count": 33,
   "metadata": {
    "collapsed": true
   },
   "outputs": [],
   "source": [
    "import pandas as pd\n",
    "from math import sqrt\n",
    "import numpy as np\n",
    "import matplotlib.pyplot as plt\n",
    "% matplotlib inline\n",
    "from scipy import stats"
   ]
  },
  {
   "cell_type": "code",
   "execution_count": 2,
   "metadata": {},
   "outputs": [],
   "source": [
    "data = pd.io.stata.read_stata('data/us_job_market_discrimination.dta')"
   ]
  },
  {
   "cell_type": "markdown",
   "metadata": {},
   "source": [
    "## 1. What test is appropriate for this problem? Does CLT apply?"
   ]
  },
  {
   "cell_type": "markdown",
   "metadata": {
    "collapsed": true
   },
   "source": [
    "A two sample test for the difference in call back proportions between black sounding and white sounding names is approapriate for this study. Since the sample sizes are sufficiently large, there are np > 10 successes (calls) and nq >  10 failures (no calls) for both black and white sounding names, and the names were randomly applied to resumes, CLT does apply."
   ]
  },
  {
   "cell_type": "markdown",
   "metadata": {},
   "source": [
    "## 2. What are the null and alternate hypotheses?"
   ]
  },
  {
   "cell_type": "markdown",
   "metadata": {},
   "source": [
    "The null hypothesis is that there is no difference in call back proportions between white and black sounding names. The alternative hypothesis is that there is a difference between white and black sounding names. Our alpha threshold at which we will reject the null hypotheses is 0.05.\n",
    "\n"
   ]
  },
  {
   "cell_type": "markdown",
   "metadata": {},
   "source": [
    "$$H0: p1 = p2 $$\n",
    "$$H1: p1 \\neq p2 $$\n",
    "$$a = 0.05 $$"
   ]
  },
  {
   "cell_type": "markdown",
   "metadata": {},
   "source": [
    "## 3. Compute margin of error, confidence interval, and p-value."
   ]
  },
  {
   "cell_type": "markdown",
   "metadata": {},
   "source": [
    "### Margin of error"
   ]
  },
  {
   "cell_type": "code",
   "execution_count": 60,
   "metadata": {},
   "outputs": [
    {
     "name": "stdout",
     "output_type": "stream",
     "text": [
      "The margin of error is 0.015\n"
     ]
    }
   ],
   "source": [
    "# Calculate call back proportions\n",
    "n_black = len(data[data.race == 'b'])\n",
    "n_white = len(data[data.race == 'w'])\n",
    "call_black = sum(data.call[data.race == 'b'])\n",
    "call_white = sum(data.call[data.race == 'w'])\n",
    "p_black = call_black/n_black\n",
    "p_white = call_white/n_white\n",
    "\n",
    "# Calculate difference between proportions\n",
    "diff = p_white - p_black\n",
    "# Calculate standard error\n",
    "SE = sqrt( ((p_white*(1 - p_white))/n_white) + ((p_black*(1 - p_black))/n_black)) \n",
    "# Get z value for a 95% confidence level\n",
    "z_val = stats.norm.ppf(0.975)\n",
    "# Calculate Margin of Error\n",
    "ME = z_val*SE\n",
    "print(\"The margin of error is %.3f\" % ME)"
   ]
  },
  {
   "cell_type": "markdown",
   "metadata": {},
   "source": [
    "### Confidence Interval"
   ]
  },
  {
   "cell_type": "code",
   "execution_count": 73,
   "metadata": {},
   "outputs": [
    {
     "name": "stdout",
     "output_type": "stream",
     "text": [
      "The lower and upper bounds for a 95-percent confidence interval for the difference between call back proportions are 0.0168 and 0.0473, respectively.\n"
     ]
    }
   ],
   "source": [
    "# Compute a 95% confidence interval\n",
    "lower, upper = diff + ME * pd.Series([-1, 1])\n",
    "print(\"The lower and upper bounds for a 95-percent confidence interval for the difference between call back proportions are %.4f and %.4f, respectively.\" % (lower, upper))\n"
   ]
  },
  {
   "cell_type": "markdown",
   "metadata": {},
   "source": [
    "### P-value"
   ]
  },
  {
   "cell_type": "code",
   "execution_count": 80,
   "metadata": {},
   "outputs": [
    {
     "name": "stdout",
     "output_type": "stream",
     "text": [
      "The probability of getting a magnitude 0.032 of difference between call back rates for black and white sounding names on resumes is 0.0000394080.\n"
     ]
    }
   ],
   "source": [
    "# Compute the p-value for the difference in proportions\n",
    "diff_test = stats.ttest_ind(data.call[data.race == 'w'], data.call[data.race == 'b'])\n",
    "print(\"The probability of getting a magnitude %.3f of difference between call back rates for black and white sounding names on resumes is %.10f.\" % (diff, diff_test[1]))"
   ]
  },
  {
   "cell_type": "markdown",
   "metadata": {},
   "source": [
    "## 4. Write a story describing the statistical significance in the context or the original problem."
   ]
  },
  {
   "cell_type": "markdown",
   "metadata": {},
   "source": [
    "As indicated above, the probability of seeing a difference of 0.032 between call back rates between black and white sounding names on resumes is less than our alpha threshold of 0.05, which leads us to reject the null hypothesis that the proportion of call backs is the same between the two samples. Furthermore, we can say with 95% confidence that the true difference between proportions is between approximately 2% and 5% indicating that white sounding names on resumes lead to approximately 2% to 5% higher call back rates than that of their black sounding name counterparts. This may not sound like a practically significant effect size, but when you consider this effect accross 1M candidates, that translates to between 20,000 and 50,000 more white sounding name resumes getting called back. "
   ]
  },
  {
   "cell_type": "markdown",
   "metadata": {},
   "source": [
    "## 5. Does your analysis mean that race/name is the most important factor in callback success? Why or why not? If not, how would you amend your analysis?"
   ]
  },
  {
   "cell_type": "markdown",
   "metadata": {},
   "source": [
    "The objective of this study was to measure the effect of race/name on resume call back rates with all other factors being held equal. The results of the analysis indicate that there is a statistically significant effect, but further analysis would need to be done to determine which factor is the most important in determining call back success. To measure the effect size of other factors (i.e. education, experience, gender, job match, etc.), it would be necessary to perform a multivariate analysis which allowed us to see the effect of each factor holding all other factors equal."
   ]
  }
 ],
 "metadata": {
  "kernelspec": {
   "display_name": "Python 2",
   "language": "python",
   "name": "python2"
  },
  "language_info": {
   "codemirror_mode": {
    "name": "ipython",
    "version": 2
   },
   "file_extension": ".py",
   "mimetype": "text/x-python",
   "name": "python",
   "nbconvert_exporter": "python",
   "pygments_lexer": "ipython2",
   "version": "2.7.13"
  }
 },
 "nbformat": 4,
 "nbformat_minor": 1
}
